{
 "cells": [
  {
   "cell_type": "markdown",
   "metadata": {},
   "source": [
    "<br><br><br><br><br>\n",
    "\n",
    "# Histograms in Scientific Python\n",
    "\n",
    "<br><br><br><br><br>"
   ]
  },
  {
   "cell_type": "markdown",
   "metadata": {},
   "source": [
    "<br><br><br>\n",
    "\n",
    "In scientific python, histograms seem to be considered as a plot style, on equal footing with, e.g. scatter plots.\n",
    "It may well be that HEP is the only place where users predominantly work with *pre-binned* data, and thus must use histograms as persistent objects representing reduced data.  This notebook will discuss a few ways that such objects can be manipulated.\n",
    "\n",
    "A histogram object roughly goes through three stages in its life:\n",
    "   - Filling\n",
    "   - Transformation\n",
    "   - Plotting\n",
    "\n",
    "<br><br><br>"
   ]
  },
  {
   "cell_type": "markdown",
   "metadata": {},
   "source": [
    "<br><br><br><br><br>\n",
    "\n",
    "### 1. Filling\n",
    "\n",
    "<br><br><br><br><br>"
   ]
  },
  {
   "cell_type": "markdown",
   "metadata": {},
   "source": [
    "<br><br><br><br>\n",
    "\n",
    "Let's explore what solutions for filling histograms exist within numpy.  We'll use a random distribution [near and dear](https://en.wikipedia.org/wiki/ARGUS_distribution) to of b and c factory physicists as a test case.\n",
    "\n",
    "<br><br><br><br>"
   ]
  },
  {
   "cell_type": "code",
   "execution_count": 1,
   "metadata": {},
   "outputs": [
    {
     "name": "stdout",
     "output_type": "stream",
     "text": [
      "(array([ 21,  52,  71,  97, 122, 140, 149, 125, 139,  84]), array([0.04036875, 0.13567467, 0.23098059, 0.32628651, 0.42159243,\n",
      "       0.51689835, 0.61220427, 0.70751019, 0.80281611, 0.89812203,\n",
      "       0.99342795]))\n"
     ]
    }
   ],
   "source": [
    "import numpy as np\n",
    "from scipy.stats import argus\n",
    "\n",
    "vals = argus(chi=.5).rvs(size=1000)\n",
    "\n",
    "h = np.histogram(vals)\n",
    "print(h)"
   ]
  },
  {
   "cell_type": "markdown",
   "metadata": {},
   "source": [
    "<br><br><br>\n",
    "\n",
    "So we're done, right?\n",
    "\n",
    "<br>\n",
    "\n",
    "Probably not: we have to analyze _O(1 billion)_ events, not _O(1000)_, and probably need to use some map-reduce paradigm to fill the histogram because we can't keep all 1 billion `vals` in memory.  So we need two things: a pre-specified binning (so that all histograms that were independently created can be added) and the ability to add two histograms.\n",
    "\n",
    "<br><br><br>"
   ]
  },
  {
   "cell_type": "code",
   "execution_count": 2,
   "metadata": {},
   "outputs": [],
   "source": [
    "def add_histos(h1, h2):\n",
    "    h1sumw, h1binning = h1\n",
    "    h2sumw, h2binning = h2\n",
    "    if np.array_equal(h1binning, h2binning):\n",
    "        return h1sumw+h2sumw, h1binning\n",
    "    else:\n",
    "        raise ValueError(\"The histograms have inconsistent binning\")"
   ]
  },
  {
   "cell_type": "code",
   "execution_count": 3,
   "metadata": {},
   "outputs": [
    {
     "name": "stdout",
     "output_type": "stream",
     "text": [
      "(array([ 0,  2,  6, 12,  8,  6, 18, 12, 24, 18, 30, 34, 22, 22, 40, 36, 24,\n",
      "       46, 34, 52, 58, 46, 54, 38, 54, 60, 76, 56, 62, 56, 52, 50, 64, 86,\n",
      "       78, 56, 50, 40, 52, 50, 72, 66, 54, 56, 38, 44, 24, 48, 14]), array([0.        , 0.02040816, 0.04081633, 0.06122449, 0.08163265,\n",
      "       0.10204082, 0.12244898, 0.14285714, 0.16326531, 0.18367347,\n",
      "       0.20408163, 0.2244898 , 0.24489796, 0.26530612, 0.28571429,\n",
      "       0.30612245, 0.32653061, 0.34693878, 0.36734694, 0.3877551 ,\n",
      "       0.40816327, 0.42857143, 0.44897959, 0.46938776, 0.48979592,\n",
      "       0.51020408, 0.53061224, 0.55102041, 0.57142857, 0.59183673,\n",
      "       0.6122449 , 0.63265306, 0.65306122, 0.67346939, 0.69387755,\n",
      "       0.71428571, 0.73469388, 0.75510204, 0.7755102 , 0.79591837,\n",
      "       0.81632653, 0.83673469, 0.85714286, 0.87755102, 0.89795918,\n",
      "       0.91836735, 0.93877551, 0.95918367, 0.97959184, 1.        ]))\n"
     ]
    }
   ],
   "source": [
    "vals2 = argus(chi=.5).rvs(size=1000)\n",
    "\n",
    "binning = np.linspace(0, 1, 50)\n",
    "h1 = np.histogram(vals, bins=binning)\n",
    "h2 = np.histogram(vals, bins=binning)\n",
    "\n",
    "h = add_histos(h1, h2)\n",
    "print(h)"
   ]
  },
  {
   "cell_type": "markdown",
   "metadata": {},
   "source": [
    "<br><br><br><br><br>\n",
    "\n",
    "So now we have all the code ingredients we need to make our own version of a ROOT TH1, from a filling perspective.\n",
    "\n",
    "<br><br><br><br><br>"
   ]
  },
  {
   "cell_type": "code",
   "execution_count": 4,
   "metadata": {},
   "outputs": [],
   "source": [
    "class myTH1:\n",
    "    def __init__(self, binning):\n",
    "        self._binning = binning\n",
    "        self._sumw = np.zeros(binning.size - 1)\n",
    "    \n",
    "    def fill(self, values, weights=None):\n",
    "        sumw, _ = np.histogram(values, bins=self._binning, weights=weights)\n",
    "        self._sumw += sumw\n",
    "    \n",
    "    def __add__(self, other):\n",
    "        if not isinstance(other, myTH1):\n",
    "            raise ValueError\n",
    "        if not np.array_equal(other._binning, self._binning):\n",
    "            raise ValueError(\"The histograms have inconsistent binning\")\n",
    "        out = myTH1(self._binning)\n",
    "        out._sumw = self._sumw + other._sumw\n",
    "        return out"
   ]
  },
  {
   "cell_type": "code",
   "execution_count": 5,
   "metadata": {},
   "outputs": [
    {
     "name": "stdout",
     "output_type": "stream",
     "text": [
      "[ 0.  5.  6. 10. 12. 10. 22. 17. 23. 19. 26. 27. 22. 23. 35. 35. 23. 42.\n",
      " 44. 55. 48. 38. 54. 34. 48. 53. 75. 59. 55. 56. 64. 58. 64. 70. 78. 56.\n",
      " 56. 52. 58. 53. 56. 61. 61. 56. 45. 44. 27. 49. 16.]\n"
     ]
    }
   ],
   "source": [
    "binning = np.linspace(0, 1, 50)\n",
    "\n",
    "h1 = myTH1(binning)\n",
    "h1.fill(vals)\n",
    "\n",
    "h2 = myTH1(binning)\n",
    "h2.fill(vals2)\n",
    "\n",
    "h = h1 + h2\n",
    "print(h._sumw)"
   ]
  },
  {
   "cell_type": "markdown",
   "metadata": {},
   "source": [
    "<br><br>\n",
    "\n",
    "**Homework:** add `sumw2` support.\n",
    "\n",
    "<br>\n",
    "\n",
    "Of course, we might want multidimensional histograms.  There is `np.histogram2d` and even `np.histogramdd`:\n",
    "\n",
    "```python\n",
    "xyz = np.random.multivariate_normal(mean=[1, 3, 7], cov=np.eye(3), size=10000)\n",
    "\n",
    "binning = np.linspace(-10, 10, 20)\n",
    "hnumpy = np.histogramdd(xyz, bins=(binning, binning, binning))\n",
    "```\n",
    "\n",
    "This is the extent of native numpy histogram filling support.\n",
    "\n",
    "<br><br>"
   ]
  },
  {
   "cell_type": "markdown",
   "metadata": {},
   "source": [
    "<br>\n",
    "\n",
    "There are many histogramming libraries based on the scientific python stack that implement extended features for filling.  A non-exhaustive list:\n",
    "   - [fast-histogram](https://github.com/astrofrog/fast-histogram)\n",
    "   - [physt](https://github.com/janpipek/physt)\n",
    "   - [histbook](https://github.com/scikit-hep/histbook) (_deprecated_)\n",
    "   - [coffea.hist](https://github.com/CoffeaTeam/coffea)\n",
    "   - [boost-histogram](https://github.com/scikit-hep/boost-histogram) (_in beta_)\n",
    " \n",
    "The extensions (with respect to filling) focus to varying degrees on:\n",
    "   - speed\n",
    "   - improved book-keeping of variables\n",
    "   - support for additional axis types beyond binned real-valued axes\n",
    "   - support for additional accumulators beyond \\$\\sum w_i\\$\n",
    "   \n",
    "Below, we demonstrate filling with the [coffea histogram](https://coffeateam.github.io/coffea/stubs/coffea.hist.hist_tools.Hist.html) object.  The syntax is quite similar for [boost-histogram](https://boost-histogram.readthedocs.io/en/latest/usage/quickstart.html#making-a-histogram) as well.\n",
    "\n",
    "<br>"
   ]
  },
  {
   "cell_type": "code",
   "execution_count": 6,
   "metadata": {},
   "outputs": [
    {
     "name": "stdout",
     "output_type": "stream",
     "text": [
      "<Hist (sample,x,y,z) instance at 0x7d0a20202710>\n"
     ]
    }
   ],
   "source": [
    "import coffea.hist as hist\n",
    "\n",
    "h = hist.Hist(\"Counts\",\n",
    "              hist.Cat(\"sample\", \"sample name\"),\n",
    "              hist.Bin(\"x\", \"x position [cm]\", 20, -10, 10),\n",
    "              hist.Bin(\"y\", \"y position [cm]\", 20, -10, 10),\n",
    "              hist.Bin(\"z\", \"z position [cm]\", 20, -10, 10),\n",
    "             )\n",
    "\n",
    "xyz = np.random.multivariate_normal(mean=[1, 3, 7], cov=np.eye(3), size=10000)\n",
    "h.fill(sample=\"sample 1\", x=xyz[:,0], y=xyz[:,1], z=xyz[:,2])\n",
    "\n",
    "# suppose we have another sample of xyz values\n",
    "xyz_sample2 = np.random.multivariate_normal(mean=[1, 3, 7], cov=np.eye(3), size=10000)\n",
    "\n",
    "# additionally, lets assume entries in sample 2 have some complicated weight associated\n",
    "weight = np.arctan(np.sqrt(np.power(xyz_sample2, 2).sum(axis=1)))\n",
    "\n",
    "h.fill(sample=\"sample 2\",  # each variable is specified as a keyword argument\n",
    "       x=xyz_sample2[:,0],\n",
    "       y=xyz_sample2[:,1],\n",
    "       z=xyz_sample2[:,2],\n",
    "       weight=weight  # weight is a reserved keyword in Hist\n",
    "      )\n",
    "\n",
    "print(h)"
   ]
  },
  {
   "cell_type": "markdown",
   "metadata": {},
   "source": [
    "<br><br><br><br><br>\n",
    "\n",
    "### 2. Transformation\n",
    "\n",
    "<br><br><br><br><br>"
   ]
  },
  {
   "cell_type": "markdown",
   "metadata": {},
   "source": [
    "<br><br>\n",
    "\n",
    "A (multidimensional) histogram object can be transformed in any way that preserves or reduces the binning, such as\n",
    "   - Integration\n",
    "   - Rebinning\n",
    "   - Scaling\n",
    "   \n",
    "and all of these can be done on one or several axes.  Most of the previously mentioned histogramming libraries support these operations.\n",
    "\n",
    "<br>\n",
    "\n",
    "Here are a few examples of transformations on multidimensional histograms in Coffea, to motivate why treating histograms as high-dimensional manipulatable objects can be useful.  For each, the docstring (`help(function)` or shift+tab in Jupyter) provides useful info.\n",
    "\n",
    "<br><br>"
   ]
  },
  {
   "cell_type": "code",
   "execution_count": 7,
   "metadata": {},
   "outputs": [
    {
     "data": {
      "text/plain": [
       "<Hist (sample,y,z) instance at 0x7d0a042d68d0>"
      ]
     },
     "execution_count": 7,
     "metadata": {},
     "output_type": "execute_result"
    }
   ],
   "source": [
    "# sum all x bins within nominal range (-10, 10)\n",
    "h.sum(\"x\", overflow='none')"
   ]
  },
  {
   "cell_type": "code",
   "execution_count": 8,
   "metadata": {},
   "outputs": [
    {
     "data": {
      "text/plain": [
       "<Hist (sample,x,z) instance at 0x7d0a042e6eb8>"
      ]
     },
     "execution_count": 8,
     "metadata": {},
     "output_type": "execute_result"
    }
   ],
   "source": [
    "# integrate y bins from -2 to +10 and remove y axis from histogram\n",
    "h.project(\"y\", slice(0, 10))"
   ]
  },
  {
   "cell_type": "code",
   "execution_count": 9,
   "metadata": {},
   "outputs": [
    {
     "data": {
      "text/plain": [
       "<Hist (sample,x,y,znew) instance at 0x7d0a042e6cf8>"
      ]
     },
     "execution_count": 9,
     "metadata": {},
     "output_type": "execute_result"
    }
   ],
   "source": [
    "# rebin z axis by providing a new axis definition\n",
    "h.rebin(\"z\", hist.Bin(\"znew\", \"rebinned z value\", [-10, -6, 6, 10]))"
   ]
  },
  {
   "cell_type": "code",
   "execution_count": 10,
   "metadata": {},
   "outputs": [
    {
     "data": {
      "text/plain": [
       "<Hist (cat,x,y,z) instance at 0x7d0a042e6e80>"
      ]
     },
     "execution_count": 10,
     "metadata": {},
     "output_type": "execute_result"
    }
   ],
   "source": [
    "# merge categorical axes\n",
    "mapping = {\n",
    "    'all samples': ['sample 1', 'sample 2'],\n",
    "    'just sample 1': ['sample 1'],\n",
    "}\n",
    "h.group(hist.Cat(\"cat\", \"new category\"), \"sample\", mapping)"
   ]
  },
  {
   "cell_type": "code",
   "execution_count": 11,
   "metadata": {},
   "outputs": [],
   "source": [
    "# scale entire histogram by 3 (in-place)\n",
    "h.scale(3.)"
   ]
  },
  {
   "cell_type": "code",
   "execution_count": 12,
   "metadata": {},
   "outputs": [],
   "source": [
    "# scale samples by different values\n",
    "scales = {\n",
    "    'sample 1': 1.2,\n",
    "    'sample 2': 0.2,\n",
    "}\n",
    "h.scale(scales, axis='sample')"
   ]
  },
  {
   "cell_type": "code",
   "execution_count": 13,
   "metadata": {},
   "outputs": [
    {
     "data": {
      "text/plain": [
       "[<StringBin (sample 1) instance at 0x7d0a2019f400>,\n",
       " <StringBin (sample 2) instance at 0x7d09f60a9ac8>]"
      ]
     },
     "metadata": {},
     "output_type": "display_data"
    },
    {
     "data": {
      "text/plain": [
       "[<Interval ([-10, -9)) instance at 0x7d0a042f4080>,\n",
       " <Interval ([-9, -8)) instance at 0x7d0a042f4828>,\n",
       " <Interval ([-8, -7)) instance at 0x7d0a042f42e8>,\n",
       " <Interval ([-7, -6)) instance at 0x7d09f60a9128>,\n",
       " <Interval ([-6, -5)) instance at 0x7d09f60a90f0>,\n",
       " <Interval ([-5, -4)) instance at 0x7d09f60a91d0>,\n",
       " <Interval ([-4, -3)) instance at 0x7d09f60a9208>,\n",
       " <Interval ([-3, -2)) instance at 0x7d09f60a9240>,\n",
       " <Interval ([-2, -1)) instance at 0x7d09f60a9278>,\n",
       " <Interval ([-1, 0)) instance at 0x7d09f60a92b0>,\n",
       " <Interval ([0, 1)) instance at 0x7d09f60a92e8>,\n",
       " <Interval ([1, 2)) instance at 0x7d09f60a9320>,\n",
       " <Interval ([2, 3)) instance at 0x7d09f60a9358>,\n",
       " <Interval ([3, 4)) instance at 0x7d09f60a9390>,\n",
       " <Interval ([4, 5)) instance at 0x7d09f60a93c8>,\n",
       " <Interval ([5, 6)) instance at 0x7d09f60a9400>,\n",
       " <Interval ([6, 7)) instance at 0x7d09f60a9438>,\n",
       " <Interval ([7, 8)) instance at 0x7d09f60a9470>,\n",
       " <Interval ([8, 9)) instance at 0x7d09f60a94a8>,\n",
       " <Interval ([9, 10)) instance at 0x7d09f60a94e0>]"
      ]
     },
     "metadata": {},
     "output_type": "display_data"
    }
   ],
   "source": [
    "# print bins, aka 'identifiers'\n",
    "display(h.identifiers('sample'))\n",
    "display(h.identifiers('x'))"
   ]
  },
  {
   "cell_type": "markdown",
   "metadata": {},
   "source": [
    "<br><br><br>\n",
    "\n",
    "There is some analog to fancy array slicing (of Numpy fame) for histogram objects, which is supported (with reasonable consistency) in Coffea.  Here, the slice boundaries are interpreted as physical axis values, rather than bin indices.  All values outside the slice range are merged into overflow bins.\n",
    "\n",
    "<br>\n",
    "\n",
    "For a lengthy discussion on possible histogram slicing syntax for the future, see [boost-histogram#35](https://github.com/scikit-hep/boost-histogram/issues/35).\n",
    "\n",
    "<br><br><br>"
   ]
  },
  {
   "cell_type": "code",
   "execution_count": 14,
   "metadata": {},
   "outputs": [
    {
     "data": {
      "text/plain": [
       "<Hist (sample,x,y,z) instance at 0x7d0a042d69e8>"
      ]
     },
     "metadata": {},
     "output_type": "display_data"
    },
    {
     "data": {
      "text/plain": [
       "[<Interval ((-inf, 4)) instance at 0x7d0a0430e7f0>,\n",
       " <Interval ([4, 5)) instance at 0x7d0a0430e828>,\n",
       " <Interval ([5, 6)) instance at 0x7d0a0430edd8>,\n",
       " <Interval ([6, 7)) instance at 0x7d0a0430ee10>,\n",
       " <Interval ([7, 8)) instance at 0x7d0a0430ee80>,\n",
       " <Interval ([8, 9)) instance at 0x7d0a0430ee48>,\n",
       " <Interval ([9, 10)) instance at 0x7d0a0430eeb8>,\n",
       " <Interval ([10, inf)) instance at 0x7d0a0430eef0>]"
      ]
     },
     "metadata": {},
     "output_type": "display_data"
    }
   ],
   "source": [
    "sliced = h[:,0:,4:,0:]\n",
    "display(sliced)\n",
    "display(sliced.identifiers(\"y\", overflow='all'))"
   ]
  },
  {
   "cell_type": "code",
   "execution_count": 15,
   "metadata": {},
   "outputs": [
    {
     "data": {
      "text/plain": [
       "{('sample 1',): array([0.00000e+00, 0.00000e+00, 0.00000e+00, 0.00000e+00, 0.00000e+00,\n",
       "        0.00000e+00, 0.00000e+00, 0.00000e+00, 0.00000e+00, 0.00000e+00,\n",
       "        0.00000e+00, 0.00000e+00, 3.60000e+00, 3.24000e+01, 7.70400e+02,\n",
       "        5.03640e+03, 1.25604e+04, 1.20744e+04, 4.74840e+03, 7.34400e+02]),\n",
       " ('sample 2',): array([0.00000000e+00, 0.00000000e+00, 0.00000000e+00, 0.00000000e+00,\n",
       "        0.00000000e+00, 0.00000000e+00, 0.00000000e+00, 0.00000000e+00,\n",
       "        0.00000000e+00, 0.00000000e+00, 0.00000000e+00, 0.00000000e+00,\n",
       "        8.08933567e-01, 4.89224300e+00, 1.71204039e+02, 1.19003443e+03,\n",
       "        2.90009134e+03, 2.95578982e+03, 1.23395049e+03, 1.77331091e+02])}"
      ]
     },
     "execution_count": 15,
     "metadata": {},
     "output_type": "execute_result"
    }
   ],
   "source": [
    "# bin contents are accessed using Hist.values()\n",
    "h.sum('x', 'y').values(sumw2=False)"
   ]
  },
  {
   "cell_type": "code",
   "execution_count": 16,
   "metadata": {},
   "outputs": [],
   "source": [
    "# data can be exported to ROOT via uproot, but only 1D (and soon 2D)\n",
    "import uproot\n",
    "outputfile = uproot.recreate(\"output.root\")\n",
    "hout = h.sum('x', 'y')\n",
    "for sample in hout.identifiers('sample'):\n",
    "    outputfile[sample.name] = hist.export1d(hout.project('sample', sample))\n",
    "outputfile.close()"
   ]
  },
  {
   "cell_type": "markdown",
   "metadata": {},
   "source": [
    "<br><br><br><br><br>\n",
    "\n",
    "### 3. Plotting\n",
    "\n",
    "<br><br><br><br><br>"
   ]
  },
  {
   "cell_type": "markdown",
   "metadata": {},
   "source": [
    "<br><br><br>\n",
    "\n",
    "The most integrated plotting utility in the scientific python ecosystem, by far, is [Matplotlib](https://matplotlib.org/).  However, as we will see, it is not tailored to HEP needs.  To facilitate the transition, there is a developing package called [mpl-hep](https://github.com/nsmith-/mpl-hep#mpl-hep).  Meanwhile, Coffea tools provide several convenience functions to aid in plotting `Hist` objects.\n",
    "\n",
    "<br>\n",
    "\n",
    "Let's start by looking at basic \"mpl\" histogramming.\n",
    "\n",
    "<br><br><br>"
   ]
  },
  {
   "cell_type": "code",
   "execution_count": 17,
   "metadata": {},
   "outputs": [],
   "source": [
    "# Jupyter display backends for matplotlib: nbagg, inline, etc.\n",
    "%matplotlib inline\n",
    "import matplotlib.pyplot as plt"
   ]
  },
  {
   "cell_type": "code",
   "execution_count": 18,
   "metadata": {},
   "outputs": [
    {
     "data": {
      "image/png": "[encoded data removed]",
      "text/plain": [
       "<Figure size 432x288 with 1 Axes>"
      ]
     },
     "metadata": {
      "needs_background": "light"
     },
     "output_type": "display_data"
    }
   ],
   "source": [
    "vals = argus(chi=.5).rvs(size=1000)\n",
    "\n",
    "# notice the semicolon, which prevents display of the return values\n",
    "plt.hist(vals);"
   ]
  },
  {
   "cell_type": "markdown",
   "metadata": {},
   "source": [
    "<br><br><br><br>\n",
    "\n",
    "Suppose we want to plot pre-binned data, for example from our earlier `np.histogram` usage.  Here we start running into the edge of typical mpl usage.  As mentioned before, apparently HEP is the only regular user of pre-binned histograms.\n",
    "\n",
    "<br><br><br><br>"
   ]
  },
  {
   "cell_type": "code",
   "execution_count": 19,
   "metadata": {},
   "outputs": [
    {
     "data": {
      "image/png": "[encoded data removed]",
      "text/plain": [
       "<Figure size 432x288 with 1 Axes>"
      ]
     },
     "metadata": {
      "needs_background": "light"
     },
     "output_type": "display_data"
    }
   ],
   "source": [
    "binning = np.linspace(0, 1, 50)\n",
    "\n",
    "h1vals, h1bins = np.histogram(vals, bins=binning)\n",
    "plt.step(x=h1bins[:-1], y=h1vals, where='post');"
   ]
  },
  {
   "cell_type": "markdown",
   "metadata": {},
   "source": [
    "<br><br><br><br><br>\n",
    "\n",
    "Coffea utilities include a plotting package to aid in displaying pre-binned histograms.  Here are a small set of example plots that can be made using this utility.  More examples can be found in [this notebook](https://github.com/CoffeaTeam/coffea/blob/master/binder/plotting-demo.ipynb).\n",
    "\n",
    "<br><br><br><br><br>"
   ]
  },
  {
   "cell_type": "code",
   "execution_count": 20,
   "metadata": {},
   "outputs": [
    {
     "data": {
      "image/png": "[encoded data removed]",
      "text/plain": [
       "<Figure size 432x288 with 1 Axes>"
      ]
     },
     "metadata": {
      "needs_background": "light"
     },
     "output_type": "display_data"
    }
   ],
   "source": [
    "hist.plot1d(h.sum(\"x\", \"y\"), overlay='sample');"
   ]
  },
  {
   "cell_type": "code",
   "execution_count": 21,
   "metadata": {},
   "outputs": [
    {
     "data": {
      "image/png": "[encoded data removed]",
      "text/plain": [
       "<Figure size 432x288 with 1 Axes>"
      ]
     },
     "metadata": {
      "needs_background": "light"
     },
     "output_type": "display_data"
    }
   ],
   "source": [
    "hist.plot1d(h.sum(\"x\", \"y\"), overlay='sample', stack=True);"
   ]
  },
  {
   "cell_type": "code",
   "execution_count": 22,
   "metadata": {},
   "outputs": [
    {
     "data": {
      "image/png": "[encoded data removed]",
      "text/plain": [
       "<Figure size 432x288 with 2 Axes>"
      ]
     },
     "metadata": {
      "needs_background": "light"
     },
     "output_type": "display_data"
    }
   ],
   "source": [
    "hist.plot2d(h.sum('x', 'sample'), xaxis='y');"
   ]
  },
  {
   "cell_type": "code",
   "execution_count": 23,
   "metadata": {},
   "outputs": [
    {
     "data": {
      "image/png": "[encoded data removed]",
      "text/plain": [
       "<Figure size 864x576 with 4 Axes>"
      ]
     },
     "metadata": {
      "needs_background": "light"
     },
     "output_type": "display_data"
    }
   ],
   "source": [
    "# make coarse binned hist and look at several distributions\n",
    "hnew = (h.rebin(\"y\", hist.Bin(\"ynew\", \"rebinned y value\", [0, 3, 5]))\n",
    "        .rebin(\"z\", hist.Bin(\"znew\", \"rebinned z value\", [5, 8, 10]))\n",
    "       )\n",
    "\n",
    "hist.plotgrid(hnew, row='ynew', col='znew', overlay='sample');"
   ]
  },
  {
   "cell_type": "code",
   "execution_count": 24,
   "metadata": {},
   "outputs": [
    {
     "name": "stderr",
     "output_type": "stream",
     "text": [
      "/home/jpivarski/miniconda3/lib/python3.7/site-packages/coffea/hist/plot.py:313: RuntimeWarning: invalid value encountered in true_divide\n",
      "  rsumw = sumw_num / sumw_denom\n"
     ]
    },
    {
     "data": {
      "text/plain": [
       "(-10, 10)"
      ]
     },
     "execution_count": 24,
     "metadata": {},
     "output_type": "execute_result"
    },
    {
     "data": {
      "image/png": "[encoded data removed]",
      "text/plain": [
       "<Figure size 432x288 with 1 Axes>"
      ]
     },
     "metadata": {
      "needs_background": "light"
     },
     "output_type": "display_data"
    }
   ],
   "source": [
    "numerator = h.project('sample', 'sample 1').sum('y', 'z')\n",
    "denominator = h.sum('sample', 'y', 'z')\n",
    "\n",
    "numerator.label = r'$\\epsilon$'\n",
    "fig, ax, _ = hist.plotratio(num=numerator,\n",
    "                            denom=denominator,\n",
    "                            error_opts={'color': 'k', 'marker': '.'},\n",
    "                            unc='clopper-pearson'\n",
    "                           )\n",
    "ax.set_ylim(0.6, 1.)\n",
    "ax.set_xlim(-10, 10)"
   ]
  }
 ],
 "metadata": {
  "kernelspec": {
   "display_name": "Python 3",
   "language": "python",
   "name": "python3"
  },
  "language_info": {
   "codemirror_mode": {
    "name": "ipython",
    "version": 3
   },
   "file_extension": ".py",
   "mimetype": "text/x-python",
   "name": "python",
   "nbconvert_exporter": "python",
   "pygments_lexer": "ipython3",
   "version": "3.7.3"
  }
 },
 "nbformat": 4,
 "nbformat_minor": 4
}
