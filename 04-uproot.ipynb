{
 "cells": [
  {
   "cell_type": "markdown",
   "metadata": {},
   "source": [
    "<br><br><br><br><br>\n",
    "\n",
    "# uproot: Python-native ROOT I/O\n",
    "\n",
    "<br><br><br><br><br>"
   ]
  },
  {
   "cell_type": "markdown",
   "metadata": {},
   "source": [
    "<br><br><br><br>\n",
    "\n",
    "<center><img src=\"img/uproot-logo.png\" width=\"40%\"></center>\n",
    "\n",
    "<br><br><br><br>"
   ]
  },
  {
   "cell_type": "markdown",
   "metadata": {},
   "source": [
    "<br>\n",
    "\n",
    "<p style=\"font-size: 1.25em\">Reminder: uproot is a reimplementation of ROOT I/O in Python, using Numpy for speed and awkward-array to represent complex data.</p>\n",
    "\n",
    "<br>\n",
    "\n",
    "<center><img src=\"img/abstraction-layers.png\" width=\"80%\"></center>\n",
    "\n",
    "<br>"
   ]
  },
  {
   "cell_type": "code",
   "execution_count": null,
   "metadata": {},
   "outputs": [],
   "source": [
    "# We've been using uproot for many of our examples so far.\n",
    "# As a re-write of ROOT I/O in Python, uproot presents the data in a Pythonic way:\n",
    "\n",
    "import uproot, numpy\n",
    "file = uproot.open(\"http://scikit-hep.org/uproot/examples/nesteddirs.root\")\n",
    "\n",
    "print(\"file is a read-only dict, from object names to objects:\\n\")\n",
    "print(f\"file.keys()                  → {file.keys()}\\n\")\n",
    "print(f\"file['one'].keys()           → {file['one'].keys()}\\n\")\n",
    "print(f\"file['one']['two'].classes() → {dict(file['one']['two'].classes())}\\n\")\n",
    "print(f\"file['one']['two']['tree']   → {file['one']['two']['tree']}\\n\")\n",
    "print(f\"file['one/two/tree']         → {file['one/two/tree']}\")"
   ]
  },
  {
   "cell_type": "code",
   "execution_count": null,
   "metadata": {},
   "outputs": [],
   "source": [
    "# TBranches of TTrees are also presented as dicts.\n",
    "events = uproot.open(\"data/Zmumu.root\")[\"events\"]\n",
    "events.keys()"
   ]
  },
  {
   "cell_type": "code",
   "execution_count": null,
   "metadata": {},
   "outputs": [],
   "source": [
    "# Get an array with TBranch.array().\n",
    "\n",
    "events[\"E1\"].array()"
   ]
  },
  {
   "cell_type": "code",
   "execution_count": null,
   "metadata": {},
   "outputs": [],
   "source": [
    "# Or TTree.array(branchname).\n",
    "\n",
    "events.array(\"E1\")"
   ]
  },
  {
   "cell_type": "code",
   "execution_count": null,
   "metadata": {},
   "outputs": [],
   "source": [
    "# The plural form, arrays, returns a dict from branch names to arrays.\n",
    "\n",
    "events.arrays(\"E1\")"
   ]
  },
  {
   "cell_type": "code",
   "execution_count": null,
   "metadata": {},
   "outputs": [],
   "source": [
    "# You get the arrays you ask for.\n",
    "\n",
    "events.arrays([\"E1\", \"px1\", \"py1\", \"pz1\"])"
   ]
  },
  {
   "cell_type": "code",
   "execution_count": null,
   "metadata": {},
   "outputs": [],
   "source": [
    "# With wildcards.\n",
    "\n",
    "events.arrays([\"E1\", \"p[xyz]1\"])"
   ]
  },
  {
   "cell_type": "code",
   "execution_count": null,
   "metadata": {},
   "outputs": [],
   "source": [
    "# These are the same wildcard patterns as matching files in UNIX.\n",
    "\n",
    "events.arrays([\"E1\", \"p*1\"])"
   ]
  },
  {
   "cell_type": "code",
   "execution_count": null,
   "metadata": {},
   "outputs": [],
   "source": [
    "# Or with slashes, they become regular expressions.\n",
    "\n",
    "events.arrays([\"E1\", \"/p.*[0-1]/\"])"
   ]
  },
  {
   "cell_type": "code",
   "execution_count": null,
   "metadata": {},
   "outputs": [],
   "source": [
    "# The \"b\" before each string (for bytestring) can be removed in Python 3 by\n",
    "# specifying an encoding (strings in ROOT have no default encoding).\n",
    "\n",
    "events.arrays([\"E1\", \"px1\", \"py1\", \"pz1\"], namedecode=\"utf-8\")"
   ]
  },
  {
   "cell_type": "code",
   "execution_count": null,
   "metadata": {},
   "outputs": [],
   "source": [
    "# And we can change the container from a dict to something else by passing a\n",
    "# class name; tuple is useful because it lets us assign each array.\n",
    "\n",
    "E, px, py, pz = events.arrays([\"E1\", \"px1\", \"py1\", \"pz1\"], outputtype=tuple)"
   ]
  },
  {
   "cell_type": "code",
   "execution_count": null,
   "metadata": {},
   "outputs": [],
   "source": [
    "# outputtype=pandas.DataFrame is a synonym for TTree.pandas.df.\n",
    "\n",
    "import pandas\n",
    "events.arrays([\"E1\", \"px1\", \"py1\", \"pz1\"], outputtype=pandas.DataFrame)"
   ]
  },
  {
   "cell_type": "code",
   "execution_count": null,
   "metadata": {},
   "outputs": [],
   "source": [
    "# Use an explicit cache to avoid reading many times from the same file.\n",
    "\n",
    "uproot.asdtype.debug_reading = True\n",
    "\n",
    "print(\"asking for array...\")\n",
    "events.array(\"E1\")\n",
    "\n",
    "mycache = {}    # or maybe uproot.ArrayCache(\"1 GB\")\n",
    "\n",
    "print(\"asking for it with a cache...\")\n",
    "events.array(\"E1\", cache=mycache)\n",
    "\n",
    "print(\"asking for it again...\")\n",
    "events.array(\"E1\", cache=mycache)\n",
    "\n",
    "uproot.asdtype.debug_reading = False"
   ]
  },
  {
   "cell_type": "markdown",
   "metadata": {},
   "source": [
    "<br>\n",
    "\n",
    "<p style=\"font-weight: bold; font-size: 1.875em; color: gray\">Three ways to get data:</p>\n",
    "\n",
    "<table width=\"100%\" style=\"font-size: 1.25em\"><tr style=\"background: white;\">\n",
    "    <td width=\"33%\" style=\"vertical-align: top\">\n",
    "        <p style=\"font-weight: bold; font-size: 1.5em; margin-bottom: 0.5em\">Direct</p>\n",
    "        <p>Read the file and return an array.</p>\n",
    "        <ul>\n",
    "            <li style=\"margin-bottom: 0.3em\"><a href=\"https://uproot.readthedocs.io/en/latest/ttree-handling.html#id11\">TBranch.array</a></li>\n",
    "            <li style=\"margin-bottom: 0.3em\"><a href=\"https://uproot.readthedocs.io/en/latest/ttree-handling.html#array\">TTree.array</a></li>\n",
    "            <li style=\"margin-bottom: 0.3em\"><a href=\"https://uproot.readthedocs.io/en/latest/ttree-handling.html#arrays\">TTree.arrays</a></li>\n",
    "        </ul>\n",
    "    </td><td width=\"33%\" style=\"vertical-align: top\">\n",
    "        <p style=\"font-weight: bold; font-size: 1.5em; margin-bottom: 0.5em\">Lazy</p>\n",
    "        <p>Get an object that reads on demand.</p>\n",
    "        <ul>\n",
    "            <li style=\"margin-bottom: 0.3em\"><a href=\"https://uproot.readthedocs.io/en/latest/ttree-handling.html#id13\">TBranch.lazyarray</a></li>\n",
    "            <li style=\"margin-bottom: 0.3em\"><a href=\"https://uproot.readthedocs.io/en/latest/ttree-handling.html#lazyarray\">TTree.lazyarray</a></li>\n",
    "            <li style=\"margin-bottom: 0.3em\"><a href=\"https://uproot.readthedocs.io/en/latest/ttree-handling.html#lazyarrays\">TTree.lazyarrays</a></li>\n",
    "            <li style=\"margin-bottom: 0.3em\"><a href=\"https://uproot.readthedocs.io/en/latest/opening-files.html#uproot-lazyarray-and-lazyarrays\">uproot.lazyarray</a>*</li>\n",
    "            <li style=\"margin-bottom: 0.3em\"><a href=\"https://uproot.readthedocs.io/en/latest/opening-files.html#uproot-lazyarray-and-lazyarrays\">uproot.lazyarrays</a>*</li>\n",
    "        </ul>\n",
    "    </td><td width=\"33%\" style=\"vertical-align: top\">\n",
    "        <p style=\"font-weight: bold; font-size: 1.5em; margin-bottom: 0.5em\">Iterative</p>\n",
    "        <p>Read arrays in batches of entries.</p>\n",
    "        <ul>\n",
    "            <li style=\"margin-bottom: 0.3em\"><a href=\"https://uproot.readthedocs.io/en/latest/ttree-handling.html#iterate\">TTree.iterate</a></li>\n",
    "            <li style=\"margin-bottom: 0.3em\"><a href=\"https://uproot.readthedocs.io/en/latest/opening-files.html#uproot-iterate\">uproot.iterate</a>*</li>\n",
    "        </ul>\n",
    "    </td>\n",
    "</tr></table>\n",
    "\n",
    "<p>*Lazy arrays or iteration over sets of files.</p>"
   ]
  },
  {
   "cell_type": "code",
   "execution_count": null,
   "metadata": {},
   "outputs": [],
   "source": [
    "# Direct:\n",
    "\n",
    "events.array(\"E1\")"
   ]
  },
  {
   "cell_type": "code",
   "execution_count": null,
   "metadata": {},
   "outputs": [],
   "source": [
    "# Lazy:\n",
    "\n",
    "uproot.asdtype.debug_reading = True\n",
    "\n",
    "print(\"getting lazy array...\")\n",
    "lazyarray = events.lazyarray(\"E1\", entrysteps=500)\n",
    "print(f\"len(lazyarray.chunks) = {len(lazyarray.chunks)}\")\n",
    "\n",
    "print(\"before looking at the array...\")\n",
    "print(f\"lazyarray = {lazyarray}\")\n",
    "print(f\"chunks read = {[x.ismaterialized for x in lazyarray.chunks]}\")\n",
    "\n",
    "print(\"before computing a value...\")\n",
    "print(f\"numpy.sqrt(lazyarray) = {numpy.sqrt(lazyarray)}\")\n",
    "\n",
    "print(\"before computing another value...\")\n",
    "print(f\"lazyarray**2 = {numpy.sqrt(lazyarray)}\")\n",
    "\n",
    "uproot.asdtype.debug_reading = False"
   ]
  },
  {
   "cell_type": "code",
   "execution_count": null,
   "metadata": {},
   "outputs": [],
   "source": [
    "# Iterative:\n",
    "\n",
    "for arrays in events.iterate(\"E1\", entrysteps=500):\n",
    "    print(arrays)"
   ]
  },
  {
   "cell_type": "markdown",
   "metadata": {},
   "source": [
    "<br><br>\n",
    "\n",
    "<p style=\"font-weight: bold; font-size: 1.875em; color: gray\">Advantages and disadvantages of each:</p>\n",
    "\n",
    "<table width=\"100%\" style=\"font-size: 1.25em\"><tr style=\"background: white;\">\n",
    "    <td width=\"33%\" style=\"vertical-align: top\">\n",
    "        <p style=\"font-weight: bold; font-size: 1.5em; margin-bottom: 0.5em\">Direct</p>\n",
    "        <p>Simple; returns pure Numpy arrays if possible.</p>\n",
    "    </td><td width=\"33%\" style=\"vertical-align: top\">\n",
    "        <p style=\"font-weight: bold; font-size: 1.5em; margin-bottom: 0.5em\">Lazy</p>\n",
    "        <p>Transparently work on data too large to fit into memory.</p>\n",
    "    </td><td width=\"33%\" style=\"vertical-align: top\">\n",
    "        <p style=\"font-weight: bold; font-size: 1.5em; margin-bottom: 0.5em\">Iterative</p>\n",
    "        <p>Control the loading of data into and out of memory.</p>\n",
    "    </td>\n",
    "</tr></table>"
   ]
  },
  {
   "cell_type": "code",
   "execution_count": null,
   "metadata": {},
   "outputs": [],
   "source": [
    "# Controlling the chunk size:\n",
    "\n",
    "print(\"Lazy or iteration steps as a fixed number of entries:\")\n",
    "for arrays in events.iterate(entrysteps=500):\n",
    "    print(len(arrays[b\"E1\"]))\n",
    "\n",
    "print(\"\\nLazy or iteration steps as a fixed memory footprint:\")\n",
    "for arrays in events.iterate(entrysteps=\"100 kB\"):\n",
    "    print(len(arrays[b\"E1\"]))"
   ]
  },
  {
   "cell_type": "code",
   "execution_count": null,
   "metadata": {},
   "outputs": [],
   "source": [
    "# Reading complex data: mostly simplified by the fact that C++ classes are \"split\"\n",
    "# into TBranches, and most TBranches are simple arrays.\n",
    "\n",
    "tree = uproot.open(\"http://scikit-hep.org/uproot/examples/Event.root\")[\"T\"]\n",
    "tree.show()\n",
    "\n",
    "# branch name              streamer type, if any      uproot's interpretation"
   ]
  },
  {
   "cell_type": "code",
   "execution_count": null,
   "metadata": {},
   "outputs": [],
   "source": [
    "# In this view, class attributes are NOT special types; they're just numbers.\n",
    "\n",
    "tree.array(\"fTemperature\", entrystop=20)"
   ]
  },
  {
   "cell_type": "code",
   "execution_count": null,
   "metadata": {},
   "outputs": [],
   "source": [
    "# Fixed-width matrices are multidimensional arrays,\n",
    "\n",
    "tree.array(\"fMatrix[4][4]\", entrystop=6)"
   ]
  },
  {
   "cell_type": "code",
   "execution_count": null,
   "metadata": {},
   "outputs": [],
   "source": [
    "# branches with multiple leaves (\"leaf-list\") are Numpy record arrays,\n",
    "\n",
    "uproot.open(\"http://scikit-hep.org/uproot/examples/\"\n",
    "                                    \"leaflist.root\")[\"tree\"][\"leaflist\"].array()"
   ]
  },
  {
   "cell_type": "code",
   "execution_count": null,
   "metadata": {},
   "outputs": [],
   "source": [
    "# and anything in variable-length lists is a JaggedArray,\n",
    "\n",
    "tree.array(\"fTracks.fMass2\", entrystop=6)"
   ]
  },
  {
   "cell_type": "code",
   "execution_count": null,
   "metadata": {},
   "outputs": [],
   "source": [
    "# even if it's fixed-width within jagged or whatever.\n",
    "\n",
    "tree.array(\"fTracks.fTArray[3]\", entrystop=6)"
   ]
  },
  {
   "cell_type": "code",
   "execution_count": null,
   "metadata": {},
   "outputs": [],
   "source": [
    "# There are some types that ROOT does not split because they are too complex.\n",
    "# For example, *histograms* inside a TTree:\n",
    "\n",
    "tree.array(\"fH\", entrystop=6)"
   ]
  },
  {
   "cell_type": "code",
   "execution_count": null,
   "metadata": {},
   "outputs": [],
   "source": [
    "# Uproot can read objects like this because ROOT describes their layout in\n",
    "# \"streamers;\" uproot reads the (most common types of) streamers and generates\n",
    "# Python classes, some of which have specialized, high-level methods.\n",
    "\n",
    "for histogram in tree.array(\"fH\", entrystop=3):\n",
    "    print(histogram.title)\n",
    "    print(histogram.values)\n",
    "print(\"\\n...\\n\")\n",
    "for histogram in tree.array(\"fH\", entrystart=-3):\n",
    "    print(histogram.title)\n",
    "    print(histogram.values)"
   ]
  },
  {
   "cell_type": "markdown",
   "metadata": {},
   "source": [
    "<br><br><br><br><br>\n",
    "\n",
    "### Histograms\n",
    "\n",
    "<br><br><br><br><br>"
   ]
  },
  {
   "cell_type": "code",
   "execution_count": null,
   "metadata": {},
   "outputs": [],
   "source": [
    "# As we've seen, histograms have some convenience methods.\n",
    "# They're mostly for conversion to other formats, like Numpy.\n",
    "# \n",
    "# Numpy \"histograms\" are a 2-tuple of counts and edges.\n",
    "\n",
    "uproot.open(\"http://scikit-hep.org/uproot/examples/\"\n",
    "                                        \"hepdata-example.root\")[\"hpx\"].numpy()"
   ]
  },
  {
   "cell_type": "code",
   "execution_count": null,
   "metadata": {},
   "outputs": [],
   "source": [
    "# Similarly for 2-dimensional histograms.\n",
    "\n",
    "uproot.open(\"http://scikit-hep.org/uproot/examples/hepdata-example.root\")[\"hpxpy\"].numpy()"
   ]
  },
  {
   "cell_type": "code",
   "execution_count": null,
   "metadata": {},
   "outputs": [],
   "source": [
    "# It can also be useful to turn histograms into Pandas DataFrames (note the IntervalIndex).\n",
    "\n",
    "uproot.open(\"http://scikit-hep.org/uproot/examples/Event.root\")[\"htime\"].pandas()"
   ]
  },
  {
   "cell_type": "code",
   "execution_count": null,
   "metadata": {},
   "outputs": [],
   "source": [
    "# Or HEPData's YAML format. As Python objects, it's just a little work to make different formats.\n",
    "\n",
    "print(uproot.open(\"http://scikit-hep.org/uproot/examples/Event.root\")[\"htime\"].hepdata())"
   ]
  },
  {
   "cell_type": "markdown",
   "metadata": {},
   "source": [
    "<br><br><br><br><br>\n",
    "\n",
    "### Writing to ROOT files\n",
    "\n",
    "<br><br><br><br><br>"
   ]
  },
  {
   "cell_type": "code",
   "execution_count": null,
   "metadata": {},
   "outputs": [],
   "source": [
    "# At the moment, only two kinds of objects can be *written* to ROOT files:\n",
    "# TObjString and histograms.\n",
    "# \n",
    "# To write, open a file for writing (create/recreate/update) and assign to it\n",
    "# like a dict:\n",
    "\n",
    "file = uproot.recreate(\"tmp.root\", compression=uproot.ZLIB(4))\n",
    "file[\"name\"] = \"Some object, like a TObjString.\""
   ]
  },
  {
   "cell_type": "code",
   "execution_count": null,
   "metadata": {},
   "outputs": [],
   "source": [
    "import ROOT\n",
    "\n",
    "pyroot_file = ROOT.TFile(\"tmp.root\")\n",
    "pyroot_file.Get(\"name\")"
   ]
  },
  {
   "cell_type": "code",
   "execution_count": null,
   "metadata": {},
   "outputs": [],
   "source": [
    "# During assignment, uproot recognizes Pythonic types, such as Numpy histograms.\n",
    "\n",
    "file[\"from_numpy\"] = numpy.histogram(numpy.random.normal(0, 1, 10000))"
   ]
  },
  {
   "cell_type": "code",
   "execution_count": null,
   "metadata": {},
   "outputs": [],
   "source": [
    "pyroot_file = ROOT.TFile(\"tmp.root\")           # refresh the PyROOT file\n",
    "pyroot_hist = pyroot_file.Get(\"from_numpy\")\n",
    "\n",
    "canvas = ROOT.TCanvas(\"canvas\", \"\", 400, 300)\n",
    "pyroot_hist.Draw(\"hist\")\n",
    "canvas.Draw()"
   ]
  },
  {
   "cell_type": "code",
   "execution_count": null,
   "metadata": {},
   "outputs": [],
   "source": [
    "# 2-dimensional Numpy histograms.\n",
    "\n",
    "file[\"from_numpy2d\"] = numpy.histogram2d(numpy.random.normal(0, 1, 10000), numpy.random.normal(0, 1, 10000))"
   ]
  },
  {
   "cell_type": "code",
   "execution_count": null,
   "metadata": {},
   "outputs": [],
   "source": [
    "pyroot_file = ROOT.TFile(\"tmp.root\")           # refresh the PyROOT file\n",
    "pyroot_hist = pyroot_file.Get(\"from_numpy2d\")\n",
    "\n",
    "pyroot_hist.Draw()\n",
    "canvas.Draw()"
   ]
  },
  {
   "cell_type": "markdown",
   "metadata": {},
   "source": [
    "<br><br><br><br><br>\n",
    "\n",
    "<p style=\"font-size: 1.25em\">Coming soon: writing simple TTrees to ROOT files.</p>\n",
    "\n",
    "<br><br><br><br><br>"
   ]
  }
 ],
 "metadata": {
  "kernelspec": {
   "display_name": "Python 3",
   "language": "python",
   "name": "python3"
  },
  "language_info": {
   "codemirror_mode": {
    "name": "ipython",
    "version": 3
   },
   "file_extension": ".py",
   "mimetype": "text/x-python",
   "name": "python",
   "nbconvert_exporter": "python",
   "pygments_lexer": "ipython3",
   "version": "3.7.3"
  }
 },
 "nbformat": 4,
 "nbformat_minor": 4
}
